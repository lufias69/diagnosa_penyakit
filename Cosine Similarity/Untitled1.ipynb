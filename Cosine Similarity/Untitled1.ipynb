{
 "cells": [
  {
   "cell_type": "code",
   "execution_count": 1,
   "metadata": {},
   "outputs": [],
   "source": [
    "from Code.code import prediksi"
   ]
  },
  {
   "cell_type": "code",
   "execution_count": 2,
   "metadata": {},
   "outputs": [
    {
     "name": "stdout",
     "output_type": "stream",
     "text": [
      "Tanda dan Gejala : Penurunan selera makan. Demam. Berkembang hingga menimbulkan nyeri abdomen, muntah darah, dan diare hebat.\n",
      "similarity       : 100\n",
      "Nama Penyakit    : Antrax\n",
      "Detail  Penyakit : Intestinal\n"
     ]
    }
   ],
   "source": [
    "namafile = \"data_train_infection.xlsx\"\n",
    "gejala = \"Penurunan selera makan. Demam. Berkembang hingga menimbulkan nyeri abdomen, muntah darah, dan diare hebat.\"\n",
    "print(\"Tanda dan Gejala :\",gejala)\n",
    "print(\"similarity       :\",prediksi(gejala, namafile)[1])\n",
    "print(\"Nama Penyakit    :\",prediksi(gejala, namafile)[0])\n",
    "print(\"Detail  Penyakit :\",prediksi(gejala, namafile)[2])\n"
   ]
  }
 ],
 "metadata": {
  "kernelspec": {
   "display_name": "Python 3",
   "language": "python",
   "name": "python3"
  },
  "language_info": {
   "codemirror_mode": {
    "name": "ipython",
    "version": 3
   },
   "file_extension": ".py",
   "mimetype": "text/x-python",
   "name": "python",
   "nbconvert_exporter": "python",
   "pygments_lexer": "ipython3",
   "version": "3.7.3"
  }
 },
 "nbformat": 4,
 "nbformat_minor": 2
}
