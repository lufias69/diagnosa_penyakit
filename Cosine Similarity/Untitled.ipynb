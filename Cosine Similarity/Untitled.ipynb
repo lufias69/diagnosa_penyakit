{
 "cells": [
  {
   "cell_type": "code",
   "execution_count": 7,
   "metadata": {},
   "outputs": [],
   "source": [
    "import pandas as pd"
   ]
  },
  {
   "cell_type": "code",
   "execution_count": 4,
   "metadata": {},
   "outputs": [],
   "source": [
    "from fuzzywuzzy import fuzz as sim"
   ]
  },
  {
   "cell_type": "code",
   "execution_count": 32,
   "metadata": {},
   "outputs": [
    {
     "data": {
      "text/plain": [
       "int"
      ]
     },
     "execution_count": 32,
     "metadata": {},
     "output_type": "execute_result"
    }
   ],
   "source": [
    "x = fuzz.token_set_ratio('Room, 2 Double Beds (19th to 25th Floors)', 'Two Double Beds - Location Room (19th to 25th Floors)')\n",
    "type (x)"
   ]
  },
  {
   "cell_type": "code",
   "execution_count": 97,
   "metadata": {},
   "outputs": [],
   "source": [
    "import pandas as pd\n",
    "from fuzzywuzzy import fuzz as sim\n",
    "def prediksi(gejala, namafile):\n",
    "#     print(namafile)\n",
    "    data = pd.read_excel(namafile)\n",
    "    gejala_list = data[\"Tanda_dan_Gejala\"].tolist()\n",
    "    diagnosa_list = data[\"Nama Penyakit\"].tolist()\n",
    "    detail = data[\"Detail Nama Penyakit\"].tolist()\n",
    "#     cek = gejala\n",
    "#     data_latih = [\"a\", \"b\"]\n",
    "#     diagnosa = ['aa','bb']\n",
    "    ratio=list()\n",
    "    for i in gejala_list:\n",
    "        rat = fuzz.token_set_ratio(i, gejala)\n",
    "        ratio.append(rat)\n",
    "\n",
    "    dict_ = {\n",
    "        \"similarity\":ratio,\n",
    "        \"diagnosa\":diagnosa_list,\n",
    "        \"detail\":detail\n",
    "    }\n",
    "\n",
    "\n",
    "    dataf = pd.DataFrame.from_dict(dict_)\n",
    "#     print(dataf)\n",
    "#     sorted_ = dataf.sort_values(by=['similarity'], descending=True)\n",
    "    sorted_ =  dataf.sort_values(by=['similarity'], ascending=False)\n",
    "#     print(sorted_)\n",
    "    diagnosa = sorted_['diagnosa'].tolist()[0]\n",
    "    similarity = sorted_['similarity'].tolist()[0]\n",
    "    detail = sorted_['detail'].tolist()[0]\n",
    "    \n",
    "    return [diagnosa, similarity, detail, sorted_]\n"
   ]
  },
  {
   "cell_type": "code",
   "execution_count": 103,
   "metadata": {},
   "outputs": [
    {
     "name": "stdout",
     "output_type": "stream",
     "text": [
      "Tanda dan Gejala : Nausea dan vomitus. Penurunan selera makan. Demam. Berkembang hingga menimbulkan nyeri abdomen, muntah darah, dan diare hebat.\n",
      "similarity       : 100\n",
      "Nama Penyakit    : Antrax\n",
      "Detail  Penyakit : Intestinal\n"
     ]
    }
   ],
   "source": [
    "#data_train_infection\n",
    "namafile = \"data_train_infection.xlsx\"\n",
    "\n",
    "\n",
    "gejala = \"Nausea dan vomitus. Penurunan selera makan. Demam. Berkembang hingga menimbulkan nyeri abdomen, muntah darah, dan diare hebat.\"\n",
    "print(\"Tanda dan Gejala :\",gejala)\n",
    "print(\"similarity       :\",prediksi(gejala, namafile)[1])\n",
    "print(\"Nama Penyakit    :\",prediksi(gejala, namafile)[0])\n",
    "print(\"Detail  Penyakit :\",prediksi(gejala, namafile)[2])\n"
   ]
  }
 ],
 "metadata": {
  "kernelspec": {
   "display_name": "Python 3",
   "language": "python",
   "name": "python3"
  },
  "language_info": {
   "codemirror_mode": {
    "name": "ipython",
    "version": 3
   },
   "file_extension": ".py",
   "mimetype": "text/x-python",
   "name": "python",
   "nbconvert_exporter": "python",
   "pygments_lexer": "ipython3",
   "version": "3.7.3"
  }
 },
 "nbformat": 4,
 "nbformat_minor": 2
}
