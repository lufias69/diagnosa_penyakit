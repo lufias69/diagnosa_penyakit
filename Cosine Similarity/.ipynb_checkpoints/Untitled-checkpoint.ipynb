{
 "cells": [
  {
   "cell_type": "code",
   "execution_count": 7,
   "metadata": {},
   "outputs": [],
   "source": [
    "import pandas as pd"
   ]
  },
  {
   "cell_type": "code",
   "execution_count": 4,
   "metadata": {},
   "outputs": [],
   "source": [
    "from fuzzywuzzy import fuzz as sim"
   ]
  },
  {
   "cell_type": "code",
   "execution_count": 11,
   "metadata": {},
   "outputs": [],
   "source": [
    "# fuzz.token_set_ratio('Room, 2 Double Beds (19th to 25th Floors)', 'Two Double Beds - Location Room (19th to 25th Floors)')"
   ]
  },
  {
   "cell_type": "code",
   "execution_count": 23,
   "metadata": {},
   "outputs": [],
   "source": [
    "import pandas as pd\n",
    "from fuzzywuzzy import fuzz as sim\n",
    "def prediksi(gejala, namafile):\n",
    "    print(namafile)\n",
    "    data = pd.read_excel(namafile)\n",
    "    gejala_list = data[\"Tanda_dan_Gejala\"].tolist()\n",
    "    diagnosa_list = data[\"Nama Penyakit\"].tolist()\n",
    "#     cek = gejala\n",
    "#     data_latih = [\"a\", \"b\"]\n",
    "#     diagnosa = ['aa','bb']\n",
    "    ratio=list()\n",
    "    for i in gejala_list:\n",
    "        sim.append((fuzz.token_set_ratio(i, gejala)))\n",
    "\n",
    "    dict_ = {\n",
    "        \"similarity\":ratio,\n",
    "        \"diagnosa\":diagnosa_list\n",
    "    }\n",
    "\n",
    "    dataf = pd.DataFrame.from_dict(dict_)\n",
    "    sorted_ = dataf.sort_values(by=['similarity'])\n",
    "    diagnosa = sorted_['diagnosa'][0]\n",
    "    similarity = sorted_['diagnosa'][0]\n",
    "    \n",
    "    return [diagnosa, similarity, sorted_]\n"
   ]
  },
  {
   "cell_type": "code",
   "execution_count": 24,
   "metadata": {},
   "outputs": [
    {
     "name": "stdout",
     "output_type": "stream",
     "text": [
      "data_train_infection.xlsx\n"
     ]
    },
    {
     "ename": "AttributeError",
     "evalue": "module 'fuzzywuzzy.fuzz' has no attribute 'append'",
     "output_type": "error",
     "traceback": [
      "\u001b[0;31m---------------------------------------------------------------------------\u001b[0m",
      "\u001b[0;31mAttributeError\u001b[0m                            Traceback (most recent call last)",
      "\u001b[0;32m<ipython-input-24-86cad2426473>\u001b[0m in \u001b[0;36m<module>\u001b[0;34m\u001b[0m\n\u001b[1;32m      2\u001b[0m \u001b[0mnamafile\u001b[0m \u001b[0;34m=\u001b[0m \u001b[0;34m\"data_train_infection.xlsx\"\u001b[0m\u001b[0;34m\u001b[0m\u001b[0;34m\u001b[0m\u001b[0m\n\u001b[1;32m      3\u001b[0m \u001b[0mgejala\u001b[0m \u001b[0;34m=\u001b[0m \u001b[0;34m\"Kongesti nasal. Batuk dan bersin-bersin. Malaise. Nyeri tenggorok. Nyeri telinga. Dispnea. Demam.\"\u001b[0m\u001b[0;34m\u001b[0m\u001b[0;34m\u001b[0m\u001b[0m\n\u001b[0;32m----> 4\u001b[0;31m \u001b[0mprediksi\u001b[0m\u001b[0;34m(\u001b[0m\u001b[0mgejala\u001b[0m\u001b[0;34m,\u001b[0m \u001b[0mnamafile\u001b[0m\u001b[0;34m)\u001b[0m\u001b[0;34m\u001b[0m\u001b[0;34m\u001b[0m\u001b[0m\n\u001b[0m",
      "\u001b[0;32m<ipython-input-23-8b5097c4597d>\u001b[0m in \u001b[0;36mprediksi\u001b[0;34m(gejala, namafile)\u001b[0m\n\u001b[1;32m     11\u001b[0m     \u001b[0mratio\u001b[0m\u001b[0;34m=\u001b[0m\u001b[0mlist\u001b[0m\u001b[0;34m(\u001b[0m\u001b[0;34m)\u001b[0m\u001b[0;34m\u001b[0m\u001b[0;34m\u001b[0m\u001b[0m\n\u001b[1;32m     12\u001b[0m     \u001b[0;32mfor\u001b[0m \u001b[0mi\u001b[0m \u001b[0;32min\u001b[0m \u001b[0mgejala_list\u001b[0m\u001b[0;34m:\u001b[0m\u001b[0;34m\u001b[0m\u001b[0;34m\u001b[0m\u001b[0m\n\u001b[0;32m---> 13\u001b[0;31m         \u001b[0msim\u001b[0m\u001b[0;34m.\u001b[0m\u001b[0mappend\u001b[0m\u001b[0;34m(\u001b[0m\u001b[0mfuzz\u001b[0m\u001b[0;34m.\u001b[0m\u001b[0mtoken_set_ratio\u001b[0m\u001b[0;34m(\u001b[0m\u001b[0mi\u001b[0m\u001b[0;34m,\u001b[0m \u001b[0mgejala\u001b[0m\u001b[0;34m)\u001b[0m\u001b[0;34m)\u001b[0m\u001b[0;34m\u001b[0m\u001b[0;34m\u001b[0m\u001b[0m\n\u001b[0m\u001b[1;32m     14\u001b[0m \u001b[0;34m\u001b[0m\u001b[0m\n\u001b[1;32m     15\u001b[0m     dict_ = {\n",
      "\u001b[0;31mAttributeError\u001b[0m: module 'fuzzywuzzy.fuzz' has no attribute 'append'"
     ]
    }
   ],
   "source": [
    "#data_train_infection\n",
    "namafile = \"data_train_infection.xlsx\"\n",
    "gejala = \"Kongesti nasal. Batuk dan bersin-bersin. Malaise. Nyeri tenggorok. Nyeri telinga. Dispnea. Demam.\"\n",
    "prediksi(gejala, namafile)"
   ]
  }
 ],
 "metadata": {
  "kernelspec": {
   "display_name": "Python 3",
   "language": "python",
   "name": "python3"
  },
  "language_info": {
   "codemirror_mode": {
    "name": "ipython",
    "version": 3
   },
   "file_extension": ".py",
   "mimetype": "text/x-python",
   "name": "python",
   "nbconvert_exporter": "python",
   "pygments_lexer": "ipython3",
   "version": "3.7.3"
  }
 },
 "nbformat": 4,
 "nbformat_minor": 2
}
